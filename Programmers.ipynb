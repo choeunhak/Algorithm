{
 "cells": [
  {
   "cell_type": "code",
   "execution_count": 21,
   "id": "b144a01c",
   "metadata": {},
   "outputs": [
    {
     "name": "stdout",
     "output_type": "stream",
     "text": [
      "30\n"
     ]
    }
   ],
   "source": [
    "#DP -> 정수삼각형\n",
    "\n",
    "\n",
    "def solution(triangle):\n",
    "#     for i in range(len(triangle)):\n",
    "#         triangle[i].append(0)\n",
    "#         triangle[i].insert(0,0)\n",
    "        \n",
    "    \n",
    "    for i in range(1, len(triangle)):\n",
    "        for j in range(i+1):\n",
    "            if(j==0):\n",
    "                triangle[i][j]=triangle[i][j]+triangle[i-1][j]\n",
    "            elif(j==len(triangle[i])-1):\n",
    "                triangle[i][j]=triangle[i][j]+triangle[i-1][j-1]\n",
    "            else:\n",
    "                triangle[i][j]=triangle[i][j]+max(triangle[i-1][j], triangle[i-1][j-1])\n",
    "    answer = max(triangle[len(triangle)-1])\n",
    "    return answer\n",
    "\n",
    "\n",
    "triangle=[[7], [3, 8], [8, 1, 0], [2, 7, 4, 4], [4, 5, 2, 6, 5]]\n",
    "print(solution(triangle))"
   ]
  },
  {
   "cell_type": "code",
   "execution_count": null,
   "id": "6627dd11",
   "metadata": {},
   "outputs": [],
   "source": [
    "# DP -> N으로 표현\n",
    "\n",
    "def solution(N, number):\n",
    "    answer = 0\n",
    "    return answer"
   ]
  }
 ],
 "metadata": {
  "kernelspec": {
   "display_name": "Python 3 (ipykernel)",
   "language": "python",
   "name": "python3"
  },
  "language_info": {
   "codemirror_mode": {
    "name": "ipython",
    "version": 3
   },
   "file_extension": ".py",
   "mimetype": "text/x-python",
   "name": "python",
   "nbconvert_exporter": "python",
   "pygments_lexer": "ipython3",
   "version": "3.9.7"
  }
 },
 "nbformat": 4,
 "nbformat_minor": 5
}
